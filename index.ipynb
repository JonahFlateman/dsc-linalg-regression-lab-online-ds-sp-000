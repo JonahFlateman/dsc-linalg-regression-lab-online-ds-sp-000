{
 "cells": [
  {
   "cell_type": "markdown",
   "metadata": {},
   "source": [
    "# Regression with Linear Algebra - Lab\n",
    "\n",
    "## Introduction\n",
    "\n",
    "In this lab, you'll apply regression analysis using simple matrix manipulations to fit a model to given data, and then predict new values for previously unseen data. You'll follow the approach highlighted in the previous lesson where you used NumPy to build the appropriate matrices and vectors and solve for the $\\beta$ (unknown variables) vector. The beta vector will be used with test data to make new predictions. You'll also evaluate the model fit.\n",
    "In order to make this experiment interesting, you'll use NumPy at every single stage of this experiment, i.e., loading data, creating matrices, performing train-test split, model fitting, and evaluation.\n",
    "  \n",
    "\n",
    "## Objectives\n",
    "\n",
    "In this lab you will:\n",
    "\n",
    "- Use matrix algebra to calculate the parameter values of a linear regression\n",
    "\n",
    "\n",
    "First, let's import necessary libraries: "
   ]
  },
  {
   "cell_type": "code",
   "execution_count": 1,
   "metadata": {},
   "outputs": [],
   "source": [
    "import csv # for reading csv file\n",
    "import numpy as np"
   ]
  },
  {
   "cell_type": "markdown",
   "metadata": {},
   "source": [
    "## Dataset \n",
    "\n",
    "The dataset you'll use for this experiment is \"**Sales Prices in the City of Windsor, Canada**\", something very similar to the Boston Housing dataset. This dataset contains a number of input (independent) variables, including area, number of bedrooms/bathrooms, facilities(AC/garage), etc. and an output (dependent) variable, **price**.  You'll formulate a linear algebra problem to find linear mappings from input features using the equation provided in the previous lesson. \n",
    "\n",
    "This will allow you to find a relationship between house features and house price for the given data, allowing you to find unknown prices for houses, given the input features.  \n",
    "\n",
    "A description of the dataset and included features is available [here](https://rdrr.io/cran/Ecdat/man/Housing.html).\n",
    "\n",
    "In your repository, the dataset is available as `windsor_housing.csv`. There are 11 input features (first 11 columns):\n",
    "\n",
    "\tlotsize\tbedrooms  bathrms  stories\tdriveway  recroom\tfullbase  gashw\t airco  garagepl   prefarea\n",
    "\n",
    "and 1 output feature i.e. **price** (12th column). \n",
    "\n",
    "The focus of this lab is not really answering a preset analytical question, but to learn how you can perform a regression experiment, using mathematical manipulations - similar to the one you performed using `statsmodels`. So you won't be using any `pandas` or `statsmodels` goodness here. The key objectives here are to: \n",
    "\n",
    "- Understand regression with matrix algebra and \n",
    "- Mastery in NumPy scientific computation\n",
    "\n",
    "## Stage 1: Prepare data for modeling \n",
    "\n",
    "Let's give you a head start by importing the dataset. You'll perform the following steps to get the data ready for analysis:\n",
    "\n",
    "* Initialize an empty list `data` for loading data\n",
    "* Read the csv file containing complete (raw) `windsor_housing.csv`. [Use `csv.reader()` for loading data.](https://docs.python.org/3/library/csv.html). Store this in `data` one row at a time \n",
    "\n",
    "* Drop the first row of csv file as it contains the names of variables (header) which won't be used during analysis (keeping this will cause errors as it contains text values) \n",
    "\n",
    "* Append a column of all **1**s to the data (bias) as the first column\n",
    "\n",
    "* Convert `data` to a NumPy array and inspect first few rows \n",
    "\n",
    "> NOTE: `read.csv()` reads the csv as a text file, so you should convert the contents to float."
   ]
  },
  {
   "cell_type": "code",
   "execution_count": 2,
   "metadata": {},
   "outputs": [],
   "source": [
    "#Initialize empty list\n",
    "data = []"
   ]
  },
  {
   "cell_type": "code",
   "execution_count": 6,
   "metadata": {},
   "outputs": [],
   "source": [
    "#Read data\n",
    "with open('windsor_housing.csv') as f:\n",
    "    raw = csv.reader(f)\n",
    "    #Dropping first row with names of variables\n",
    "    next(raw)\n",
    "    #Nested for loops - reading one row at a time, then adding a 1.0 to each row\n",
    "    for row in raw:\n",
    "        ones = [1.0]\n",
    "        for r in row:\n",
    "            ones.append(float(r))\n",
    "        #Now append the row to the data\n",
    "        data.append(ones)\n",
    "data = np.array(data)"
   ]
  },
  {
   "cell_type": "code",
   "execution_count": 18,
   "metadata": {},
   "outputs": [
    {
     "data": {
      "text/plain": [
       "array([[1.00e+00, 5.85e+03, 3.00e+00, 1.00e+00, 2.00e+00, 1.00e+00,\n",
       "        0.00e+00, 1.00e+00, 0.00e+00, 0.00e+00, 1.00e+00, 0.00e+00,\n",
       "        4.20e+04],\n",
       "       [1.00e+00, 4.00e+03, 2.00e+00, 1.00e+00, 1.00e+00, 1.00e+00,\n",
       "        0.00e+00, 0.00e+00, 0.00e+00, 0.00e+00, 0.00e+00, 0.00e+00,\n",
       "        3.85e+04],\n",
       "       [1.00e+00, 3.06e+03, 3.00e+00, 1.00e+00, 1.00e+00, 1.00e+00,\n",
       "        0.00e+00, 0.00e+00, 0.00e+00, 0.00e+00, 0.00e+00, 0.00e+00,\n",
       "        4.95e+04],\n",
       "       [1.00e+00, 6.65e+03, 3.00e+00, 1.00e+00, 2.00e+00, 1.00e+00,\n",
       "        1.00e+00, 0.00e+00, 0.00e+00, 0.00e+00, 0.00e+00, 0.00e+00,\n",
       "        6.05e+04],\n",
       "       [1.00e+00, 6.36e+03, 2.00e+00, 1.00e+00, 1.00e+00, 1.00e+00,\n",
       "        0.00e+00, 0.00e+00, 0.00e+00, 0.00e+00, 0.00e+00, 0.00e+00,\n",
       "        6.10e+04]])"
      ]
     },
     "execution_count": 18,
     "metadata": {},
     "output_type": "execute_result"
    }
   ],
   "source": [
    "data[:5,:]"
   ]
  },
  {
   "cell_type": "code",
   "execution_count": null,
   "metadata": {},
   "outputs": [],
   "source": [
    "# Your code here\n",
    "\n",
    "\n",
    "\n",
    "\n",
    "\n",
    "# First 5 rows of raw data \n",
    "\n",
    "# array([[1.00e+00, 5.85e+03, 3.00e+00, 1.00e+00, 2.00e+00, 1.00e+00,\n",
    "#         0.00e+00, 1.00e+00, 0.00e+00, 0.00e+00, 1.00e+00, 0.00e+00,\n",
    "#         4.20e+04],\n",
    "#        [1.00e+00, 4.00e+03, 2.00e+00, 1.00e+00, 1.00e+00, 1.00e+00,\n",
    "#         0.00e+00, 0.00e+00, 0.00e+00, 0.00e+00, 0.00e+00, 0.00e+00,\n",
    "#         3.85e+04],\n",
    "#        [1.00e+00, 3.06e+03, 3.00e+00, 1.00e+00, 1.00e+00, 1.00e+00,\n",
    "#         0.00e+00, 0.00e+00, 0.00e+00, 0.00e+00, 0.00e+00, 0.00e+00,\n",
    "#         4.95e+04],\n",
    "#        [1.00e+00, 6.65e+03, 3.00e+00, 1.00e+00, 2.00e+00, 1.00e+00,\n",
    "#         1.00e+00, 0.00e+00, 0.00e+00, 0.00e+00, 0.00e+00, 0.00e+00,\n",
    "#         6.05e+04],\n",
    "#        [1.00e+00, 6.36e+03, 2.00e+00, 1.00e+00, 1.00e+00, 1.00e+00,\n",
    "#         0.00e+00, 0.00e+00, 0.00e+00, 0.00e+00, 0.00e+00, 0.00e+00,\n",
    "#         6.10e+04]])"
   ]
  },
  {
   "cell_type": "markdown",
   "metadata": {},
   "source": [
    "## Step 2: Perform a 80/20 train-test split\n",
    "\n",
    "Explore NumPy's official documentation to manually split a dataset using a random sampling method of your choice. Some useful methods are located in the [numpy.random library](https://docs.scipy.org/doc/numpy-1.14.0/reference/routines.random.html).\n",
    "* Perform a **random** 80/20 split on data using a method of your choice in NumPy\n",
    "* Split the data to create `x_train`, `y_train`, `x_test`, and `y_test` arrays \n",
    "* Inspect the contents to see if the split performed as expected\n",
    "\n",
    "> Note: When randomly splitting data, it's always recommended to set a seed in order to ensure reproducibility "
   ]
  },
  {
   "cell_type": "code",
   "execution_count": 21,
   "metadata": {},
   "outputs": [
    {
     "data": {
      "text/plain": [
       "(546, 13)"
      ]
     },
     "execution_count": 21,
     "metadata": {},
     "output_type": "execute_result"
    }
   ],
   "source": [
    "data.shape"
   ]
  },
  {
   "cell_type": "code",
   "execution_count": 22,
   "metadata": {},
   "outputs": [],
   "source": [
    "# Your code here\n",
    "#Setting a seed\n",
    "np.random.seed(37)\n",
    "#Array of indices\n",
    "all_index = np.arange(data.shape[0])\n",
    "#Randomly choosing 80% of all_index\n",
    "training_index = np.random.choice(all_index, size=round(546*.8), replace=False)\n",
    "#Choosing remaining 20% not part of training_index in all_index - remember the ~ tilde is inverse/complement\n",
    "test_index = all_index[~np.isin(all_index, training_index)]\n",
    "training, test = data[training_index, :], data[test_index, :]\n",
    "\n",
    "\n",
    "\n",
    "\n",
    "# Split results\n",
    "# Raw data Shape:  (546, 13)\n",
    "# Train/Test Split: (437, 13) (109, 13)\n",
    "# x_train, y_train, x_test, y_test: (437, 12) (437,) (109, 12) (109,)"
   ]
  },
  {
   "cell_type": "code",
   "execution_count": 31,
   "metadata": {},
   "outputs": [
    {
     "data": {
      "text/plain": [
       "(437, 13)"
      ]
     },
     "execution_count": 31,
     "metadata": {},
     "output_type": "execute_result"
    }
   ],
   "source": [
    "training.shape"
   ]
  },
  {
   "cell_type": "code",
   "execution_count": 32,
   "metadata": {},
   "outputs": [
    {
     "data": {
      "text/plain": [
       "(109, 13)"
      ]
     },
     "execution_count": 32,
     "metadata": {},
     "output_type": "execute_result"
    }
   ],
   "source": [
    "test.shape"
   ]
  },
  {
   "cell_type": "code",
   "execution_count": 34,
   "metadata": {},
   "outputs": [
    {
     "data": {
      "text/plain": [
       "(437, 12)"
      ]
     },
     "execution_count": 34,
     "metadata": {},
     "output_type": "execute_result"
    }
   ],
   "source": [
    "x_train = training[:,:-1]\n",
    "x_train.shape"
   ]
  },
  {
   "cell_type": "code",
   "execution_count": 35,
   "metadata": {},
   "outputs": [
    {
     "data": {
      "text/plain": [
       "(437,)"
      ]
     },
     "execution_count": 35,
     "metadata": {},
     "output_type": "execute_result"
    }
   ],
   "source": [
    "y_train = training[:, -1]\n",
    "y_train.shape"
   ]
  },
  {
   "cell_type": "code",
   "execution_count": 36,
   "metadata": {},
   "outputs": [
    {
     "data": {
      "text/plain": [
       "(109, 12)"
      ]
     },
     "execution_count": 36,
     "metadata": {},
     "output_type": "execute_result"
    }
   ],
   "source": [
    "x_test = test[:,:-1]\n",
    "x_test.shape"
   ]
  },
  {
   "cell_type": "code",
   "execution_count": 37,
   "metadata": {},
   "outputs": [
    {
     "data": {
      "text/plain": [
       "(109,)"
      ]
     },
     "execution_count": 37,
     "metadata": {},
     "output_type": "execute_result"
    }
   ],
   "source": [
    "y_test = test[:, -1]\n",
    "y_test.shape"
   ]
  },
  {
   "cell_type": "markdown",
   "metadata": {},
   "source": [
    "## Step 3: Calculate the `beta` \n",
    "\n",
    "With $X$ and $y$ in place, you can now compute your beta values with $x_\\text{train}$ and $y_\\text{train}$ as:\n",
    "#### $\\beta = (x_\\text{train}^T. x_\\text{train})^{-1} . x_\\text{train}^T . y_\\text{train}$\n",
    "\n",
    "* Using NumPy operations (transpose, inverse) that we saw earlier, compute the above equation in steps \n",
    "* Print your beta values "
   ]
  },
  {
   "cell_type": "code",
   "execution_count": 38,
   "metadata": {},
   "outputs": [
    {
     "name": "stdout",
     "output_type": "stream",
     "text": [
      "[-1.78299765e+03  3.42800528e+00  1.52280236e+03  1.39765189e+04\n",
      "  6.33427670e+03  6.14499385e+03  4.52570854e+03  5.92897612e+03\n",
      "  1.15348957e+04  1.35676772e+04  4.48548338e+03  1.00801252e+04]\n"
     ]
    }
   ],
   "source": [
    "# Your code here \n",
    "\n",
    "Xt = np.transpose(x_train)\n",
    "XtX = np.dot(Xt, x_train)\n",
    "Xty = np.dot(Xt, y_train)\n",
    "\n",
    "XtX_inv = np.linalg.inv(XtX)\n",
    "beta = XtX_inv.dot(Xty)\n",
    "print(beta)\n",
    "\n",
    "\n",
    "# Beta values\n",
    "# Due to random split, your answers may vary \n",
    "# [-5.46637290e+03  3.62457767e+00  2.75100964e+03  1.47223649e+04\n",
    "#   5.97774591e+03  5.71916945e+03  5.73109882e+03  3.83586258e+03\n",
    "#   8.12674607e+03  1.33296437e+04  3.74995169e+03  1.01514699e+04]"
   ]
  },
  {
   "cell_type": "markdown",
   "metadata": {},
   "source": [
    "## Step 4: Make predictions\n",
    "Great, you now have a set of coefficients that describe the linear mappings between $X$ and $y$. You can now use the calculated beta values with the test datasets that we left out to calculate $y$ predictions. Next, use all features in turn and multiply it with this beta. The result will give a prediction for each row which you can append to a new array of predictions.\n",
    "\n",
    "$\\hat{y} = x\\beta = \\beta_0 + \\beta_1 x_1 +  \\beta_2 x_2 + \\ldots + \\beta_m x_m $ \n",
    "\n",
    "* Create a new empty list (`y_pred`) for saving predictions\n",
    "* For each row of `x_test`, take the dot product of the row with beta to calculate the prediction for that row\n",
    "* Append the predictions to `y_pred`\n",
    "* Print the new set of predictions"
   ]
  },
  {
   "cell_type": "code",
   "execution_count": 39,
   "metadata": {},
   "outputs": [
    {
     "data": {
      "text/plain": [
       "[56170.25426401658,\n",
       " 31857.41854334931,\n",
       " 52204.27060751446,\n",
       " 64154.11872267505,\n",
       " 62855.17396624631,\n",
       " 65683.06430405055,\n",
       " 70566.71282983077,\n",
       " 31994.53875451949,\n",
       " 47059.29329274188,\n",
       " 44602.80519102309,\n",
       " 31323.41773685754,\n",
       " 92016.17096784545,\n",
       " 64928.903142614574,\n",
       " 44059.78867339426,\n",
       " 73502.64686467766,\n",
       " 78038.29638062404,\n",
       " 62167.05397369389,\n",
       " 67875.28328318326,\n",
       " 68970.63794396709,\n",
       " 90576.48171663345,\n",
       " 93691.54389660966,\n",
       " 92385.17136656595,\n",
       " 52867.10225287078,\n",
       " 43032.80670980709,\n",
       " 38839.61369407333,\n",
       " 91266.19507682635,\n",
       " 44199.864538897426,\n",
       " 62526.8534765098,\n",
       " 45845.423510689194,\n",
       " 53742.43057255001,\n",
       " 48593.34068044137,\n",
       " 82184.19061582006,\n",
       " 59024.775145321655,\n",
       " 76987.55221995545,\n",
       " 81226.03371492625,\n",
       " 44336.68908394195,\n",
       " 47382.29380606371,\n",
       " 55113.632684251774,\n",
       " 44133.33830006372,\n",
       " 55967.75999827739,\n",
       " 59690.47019124584,\n",
       " 56778.87523289751,\n",
       " 66204.42179286582,\n",
       " 82489.17023782848,\n",
       " 38907.4057825865,\n",
       " 42724.42813029015,\n",
       " 41567.537879287935,\n",
       " 58532.70390091413,\n",
       " 71623.18907078933,\n",
       " 85689.76208693962,\n",
       " 65384.05539366891,\n",
       " 72617.45594057936,\n",
       " 95747.49054602327,\n",
       " 40916.21687622959,\n",
       " 102824.56424642762,\n",
       " 77237.72999603074,\n",
       " 42439.01923729047,\n",
       " 68860.82433001426,\n",
       " 79008.99371978495,\n",
       " 90994.09550521371,\n",
       " 139750.9237461644,\n",
       " 108674.99521790241,\n",
       " 82709.81675328645,\n",
       " 94917.42146520322,\n",
       " 106285.07984333509,\n",
       " 91853.54130500683,\n",
       " 113274.035238452,\n",
       " 97574.20322281969,\n",
       " 78217.30395743268,\n",
       " 97716.17190356844,\n",
       " 83374.4563912733,\n",
       " 102158.90854398656,\n",
       " 107670.46397204412,\n",
       " 69185.91708257294,\n",
       " 89768.40319436323,\n",
       " 119818.06521114474,\n",
       " 72210.76164719538,\n",
       " 55528.25602929439,\n",
       " 60520.993231693945,\n",
       " 71158.79649564017,\n",
       " 107444.17382510894,\n",
       " 86556.75065185947,\n",
       " 57722.17940801722,\n",
       " 91717.21704759108,\n",
       " 77308.66590330511,\n",
       " 69435.55038573728,\n",
       " 67872.04443050125,\n",
       " 79728.80969377622,\n",
       " 65989.73218782444,\n",
       " 88715.35312640472,\n",
       " 80783.64885111942,\n",
       " 91577.52351700148,\n",
       " 99331.68175438739,\n",
       " 65020.956647041145,\n",
       " 53883.35333133521,\n",
       " 49877.79069327257,\n",
       " 56926.74495832958,\n",
       " 92018.52583566961,\n",
       " 52277.39438875066,\n",
       " 54627.506549545855,\n",
       " 80986.4478877142,\n",
       " 51539.26320436229,\n",
       " 79131.21813837481,\n",
       " 102364.54259192958,\n",
       " 102413.41912066069,\n",
       " 90021.9801586318,\n",
       " 77578.42787894937,\n",
       " 96356.25685371042,\n",
       " 96768.35905825754]"
      ]
     },
     "execution_count": 39,
     "metadata": {},
     "output_type": "execute_result"
    }
   ],
   "source": [
    "# Your code here\n",
    "y_pred = []\n",
    "for row in x_test:\n",
    "    pred = row.dot(beta)\n",
    "    y_pred.append(pred)\n",
    "y_pred"
   ]
  },
  {
   "cell_type": "markdown",
   "metadata": {},
   "source": [
    "## Step 5: Evaluate model \n",
    "\n",
    "### Visualize actual vs. predicted values\n",
    "This is exciting, now your model can use the beta value to predict the price of houses given the input features. Let's plot these predictions against the actual values in `y_test` to see how much our model deviates. "
   ]
  },
  {
   "cell_type": "code",
   "execution_count": 43,
   "metadata": {},
   "outputs": [
    {
     "data": {
      "image/png": "[encoded data removed]",
      "text/plain": [
       "<Figure size 1296x576 with 1 Axes>"
      ]
     },
     "metadata": {
      "needs_background": "light"
     },
     "output_type": "display_data"
    }
   ],
   "source": [
    "# Plot predicted and actual values as line plots\n",
    "import matplotlib.pyplot as plt\n",
    "%matplotlib inline\n",
    "plt.figure(figsize=(18,8))\n",
    "plt.plot(y_pred, label='predictions')\n",
    "plt.plot(y_test, label='actual')\n",
    "plt.legend()\n",
    "plt.show()"
   ]
  },
  {
   "cell_type": "markdown",
   "metadata": {},
   "source": [
    "This doesn't look so bad, does it? Your model, although isn't perfect at this stage, is making a good attempt to predict house prices although a few prediction seem a bit out. There could be a number of reasons for this. Let's try to dig a bit deeper to check model's predictive abilities by comparing these prediction with actual values of `y_test` individually. That will help you calculate the RMSE value (root mean squared error) for your model. \n",
    "\n",
    "### Root Mean Squared Error\n",
    "Here is the formula for RMSE:  \n",
    "\n",
    "$$ \\large RMSE = \\sqrt{\\sum^N_{i=1}\\dfrac{ (\\text{Predicted}_i-\\text{Actual}_i)^2}{N}}$$\n",
    "\n",
    "* Initialize an empty array `err`\n",
    "* For each row in `y_test` and `y_pred`, take the squared difference and append error for each row in the `err` array\n",
    "* Calculate $RMSE$ from `err` using the formula shown above "
   ]
  },
  {
   "cell_type": "code",
   "execution_count": 48,
   "metadata": {},
   "outputs": [
    {
     "data": {
      "text/plain": [
       "15871.5272933897"
      ]
     },
     "execution_count": 48,
     "metadata": {},
     "output_type": "execute_result"
    }
   ],
   "source": [
    "# Calculate RMSE\n",
    "err = []\n",
    "for pred, actual in zip(y_pred, y_test):\n",
    "    sq_err = (pred - actual)**2\n",
    "    err.append(sq_err)\n",
    "mse = np.mean(err)\n",
    "rmse = np.sqrt(mse)\n",
    "rmse\n",
    "# Due to random split, your answers may vary \n",
    "# RMSE = 14868.172645765708"
   ]
  },
  {
   "cell_type": "markdown",
   "metadata": {},
   "source": [
    "### Normalized root mean squared error\n",
    "The above error is clearly in terms of the dependent variable, i.e., the final house price. You can also use a normalized mean squared error in case of multiple regression which can be calculated from RMSE using following the formula:\n",
    "\n",
    "$$ \\large NRMSE = \\dfrac{RMSE}{max_i y_i - min_i y_i} $$\n",
    "\n",
    "* Calculate normalized RMSE"
   ]
  },
  {
   "cell_type": "code",
   "execution_count": 50,
   "metadata": {},
   "outputs": [
    {
     "data": {
      "text/plain": [
       "0.09619107450539212"
      ]
     },
     "execution_count": 50,
     "metadata": {},
     "output_type": "execute_result"
    }
   ],
   "source": [
    "# Calculate NRMSE\n",
    "rmse / (y_train.max() - y_train.min())\n",
    "# Due to random split, your answers may vary \n",
    "# 0.09011013724706489"
   ]
  },
  {
   "cell_type": "markdown",
   "metadata": {},
   "source": [
    "There it is. A complete multiple regression analysis using nothing but NumPy. Having good programming skills in NumPy allows you to dig deeper into analytical algorithms in machine learning and deep learning. Using matrix multiplication techniques you saw here, you can easily build a whole neural network from scratch. \n",
    "\n",
    "## Level up (Optional)\n",
    "\n",
    "* Calculate the R-squared and adjusted R-squared for the above model \n",
    "* Plot the residuals (similar to `statsmodels`) and comment on the variance and heteroscedasticity\n",
    "* Run the experiment in `statsmodels` and compare the performance of both approaches in terms of computational cost\n",
    "\n",
    "## Summary\n",
    "\n",
    "In this lab, you built a predictive model for predicting house prices. Remember this is a very naive implementation of regression modeling. The purpose here was to get an introduction to the applications of linear algebra into machine learning and predictive analysis. There are a number of shortcomings in this modeling approach and you can further apply a number of data modeling techniques to improve this model. "
   ]
  }
 ],
 "metadata": {
  "kernelspec": {
   "display_name": "Python 3",
   "language": "python",
   "name": "python3"
  },
  "language_info": {
   "codemirror_mode": {
    "name": "ipython",
    "version": 3
   },
   "file_extension": ".py",
   "mimetype": "text/x-python",
   "name": "python",
   "nbconvert_exporter": "python",
   "pygments_lexer": "ipython3",
   "version": "3.6.9"
  }
 },
 "nbformat": 4,
 "nbformat_minor": 2
}
